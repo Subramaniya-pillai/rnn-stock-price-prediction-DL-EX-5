{
  "nbformat": 4,
  "nbformat_minor": 0,
  "metadata": {
    "colab": {
      "provenance": [],
      "include_colab_link": true
    },
    "kernelspec": {
      "name": "python3",
      "display_name": "Python 3"
    },
    "language_info": {
      "name": "python"
    },
    "accelerator": "GPU",
    "gpuClass": "standard"
  },
  "cells": [
    {
      "cell_type": "markdown",
      "metadata": {
        "id": "view-in-github",
        "colab_type": "text"
      },
      "source": [
        "<a href=\"https://colab.research.google.com/github/Subramaniya-pillai/rnn-stock-price-prediction-DL-EX-5/blob/main/DL_Ex05_.ipynb\" target=\"_parent\"><img src=\"https://colab.research.google.com/assets/colab-badge.svg\" alt=\"Open In Colab\"/></a>"
      ]
    },
    {
      "cell_type": "code",
      "execution_count": null,
      "metadata": {
        "id": "rWulUnXvE0XQ"
      },
      "outputs": [],
      "source": [
        "import numpy as np\n",
        "import matplotlib.pyplot as plt\n",
        "import pandas as pd\n",
        "from sklearn.preprocessing import MinMaxScaler\n",
        "from keras import layers\n",
        "from keras.models import Sequential"
      ]
    },
    {
      "cell_type": "code",
      "source": [
        "dataset_train = pd.read_csv('trainset.csv')\n"
      ],
      "metadata": {
        "id": "G9yM-i2fGSeD"
      },
      "execution_count": null,
      "outputs": []
    },
    {
      "cell_type": "code",
      "source": [
        "dataset_train.columns"
      ],
      "metadata": {
        "id": "ZnNFxG1yHJXj",
        "colab": {
          "base_uri": "https://localhost:8080/"
        },
        "outputId": "6adb137d-92c4-44ac-e5df-ab652f9e50ba"
      },
      "execution_count": null,
      "outputs": [
        {
          "output_type": "execute_result",
          "data": {
            "text/plain": [
              "Index(['Date', 'Open', 'High', 'Low', 'Close', 'Adj Close', 'Volume'], dtype='object')"
            ]
          },
          "metadata": {},
          "execution_count": 5
        }
      ]
    },
    {
      "cell_type": "code",
      "source": [
        "dataset_train.head()"
      ],
      "metadata": {
        "id": "ioHdtmFxHSQ5",
        "colab": {
          "base_uri": "https://localhost:8080/",
          "height": 206
        },
        "outputId": "80f70fa9-c118-4235-b097-00fb59a33201"
      },
      "execution_count": null,
      "outputs": [
        {
          "output_type": "execute_result",
          "data": {
            "text/plain": [
              "         Date        Open        High         Low       Close   Adj Close  \\\n",
              "0  2013-01-02  357.385559  361.151062  355.959839  359.288177  359.288177   \n",
              "1  2013-01-03  360.122742  363.600128  358.031342  359.496826  359.496826   \n",
              "2  2013-01-04  362.313507  368.339294  361.488861  366.600616  366.600616   \n",
              "3  2013-01-07  365.348755  367.301056  362.929504  365.001007  365.001007   \n",
              "4  2013-01-08  365.393463  365.771027  359.874359  364.280701  364.280701   \n",
              "\n",
              "    Volume  \n",
              "0  5115500  \n",
              "1  4666500  \n",
              "2  5562800  \n",
              "3  3332900  \n",
              "4  3373900  "
            ],
            "text/html": [
              "\n",
              "  <div id=\"df-e620b7ee-00fd-4fea-9317-bc4cac5883bc\">\n",
              "    <div class=\"colab-df-container\">\n",
              "      <div>\n",
              "<style scoped>\n",
              "    .dataframe tbody tr th:only-of-type {\n",
              "        vertical-align: middle;\n",
              "    }\n",
              "\n",
              "    .dataframe tbody tr th {\n",
              "        vertical-align: top;\n",
              "    }\n",
              "\n",
              "    .dataframe thead th {\n",
              "        text-align: right;\n",
              "    }\n",
              "</style>\n",
              "<table border=\"1\" class=\"dataframe\">\n",
              "  <thead>\n",
              "    <tr style=\"text-align: right;\">\n",
              "      <th></th>\n",
              "      <th>Date</th>\n",
              "      <th>Open</th>\n",
              "      <th>High</th>\n",
              "      <th>Low</th>\n",
              "      <th>Close</th>\n",
              "      <th>Adj Close</th>\n",
              "      <th>Volume</th>\n",
              "    </tr>\n",
              "  </thead>\n",
              "  <tbody>\n",
              "    <tr>\n",
              "      <th>0</th>\n",
              "      <td>2013-01-02</td>\n",
              "      <td>357.385559</td>\n",
              "      <td>361.151062</td>\n",
              "      <td>355.959839</td>\n",
              "      <td>359.288177</td>\n",
              "      <td>359.288177</td>\n",
              "      <td>5115500</td>\n",
              "    </tr>\n",
              "    <tr>\n",
              "      <th>1</th>\n",
              "      <td>2013-01-03</td>\n",
              "      <td>360.122742</td>\n",
              "      <td>363.600128</td>\n",
              "      <td>358.031342</td>\n",
              "      <td>359.496826</td>\n",
              "      <td>359.496826</td>\n",
              "      <td>4666500</td>\n",
              "    </tr>\n",
              "    <tr>\n",
              "      <th>2</th>\n",
              "      <td>2013-01-04</td>\n",
              "      <td>362.313507</td>\n",
              "      <td>368.339294</td>\n",
              "      <td>361.488861</td>\n",
              "      <td>366.600616</td>\n",
              "      <td>366.600616</td>\n",
              "      <td>5562800</td>\n",
              "    </tr>\n",
              "    <tr>\n",
              "      <th>3</th>\n",
              "      <td>2013-01-07</td>\n",
              "      <td>365.348755</td>\n",
              "      <td>367.301056</td>\n",
              "      <td>362.929504</td>\n",
              "      <td>365.001007</td>\n",
              "      <td>365.001007</td>\n",
              "      <td>3332900</td>\n",
              "    </tr>\n",
              "    <tr>\n",
              "      <th>4</th>\n",
              "      <td>2013-01-08</td>\n",
              "      <td>365.393463</td>\n",
              "      <td>365.771027</td>\n",
              "      <td>359.874359</td>\n",
              "      <td>364.280701</td>\n",
              "      <td>364.280701</td>\n",
              "      <td>3373900</td>\n",
              "    </tr>\n",
              "  </tbody>\n",
              "</table>\n",
              "</div>\n",
              "      <button class=\"colab-df-convert\" onclick=\"convertToInteractive('df-e620b7ee-00fd-4fea-9317-bc4cac5883bc')\"\n",
              "              title=\"Convert this dataframe to an interactive table.\"\n",
              "              style=\"display:none;\">\n",
              "        \n",
              "  <svg xmlns=\"http://www.w3.org/2000/svg\" height=\"24px\"viewBox=\"0 0 24 24\"\n",
              "       width=\"24px\">\n",
              "    <path d=\"M0 0h24v24H0V0z\" fill=\"none\"/>\n",
              "    <path d=\"M18.56 5.44l.94 2.06.94-2.06 2.06-.94-2.06-.94-.94-2.06-.94 2.06-2.06.94zm-11 1L8.5 8.5l.94-2.06 2.06-.94-2.06-.94L8.5 2.5l-.94 2.06-2.06.94zm10 10l.94 2.06.94-2.06 2.06-.94-2.06-.94-.94-2.06-.94 2.06-2.06.94z\"/><path d=\"M17.41 7.96l-1.37-1.37c-.4-.4-.92-.59-1.43-.59-.52 0-1.04.2-1.43.59L10.3 9.45l-7.72 7.72c-.78.78-.78 2.05 0 2.83L4 21.41c.39.39.9.59 1.41.59.51 0 1.02-.2 1.41-.59l7.78-7.78 2.81-2.81c.8-.78.8-2.07 0-2.86zM5.41 20L4 18.59l7.72-7.72 1.47 1.35L5.41 20z\"/>\n",
              "  </svg>\n",
              "      </button>\n",
              "      \n",
              "  <style>\n",
              "    .colab-df-container {\n",
              "      display:flex;\n",
              "      flex-wrap:wrap;\n",
              "      gap: 12px;\n",
              "    }\n",
              "\n",
              "    .colab-df-convert {\n",
              "      background-color: #E8F0FE;\n",
              "      border: none;\n",
              "      border-radius: 50%;\n",
              "      cursor: pointer;\n",
              "      display: none;\n",
              "      fill: #1967D2;\n",
              "      height: 32px;\n",
              "      padding: 0 0 0 0;\n",
              "      width: 32px;\n",
              "    }\n",
              "\n",
              "    .colab-df-convert:hover {\n",
              "      background-color: #E2EBFA;\n",
              "      box-shadow: 0px 1px 2px rgba(60, 64, 67, 0.3), 0px 1px 3px 1px rgba(60, 64, 67, 0.15);\n",
              "      fill: #174EA6;\n",
              "    }\n",
              "\n",
              "    [theme=dark] .colab-df-convert {\n",
              "      background-color: #3B4455;\n",
              "      fill: #D2E3FC;\n",
              "    }\n",
              "\n",
              "    [theme=dark] .colab-df-convert:hover {\n",
              "      background-color: #434B5C;\n",
              "      box-shadow: 0px 1px 3px 1px rgba(0, 0, 0, 0.15);\n",
              "      filter: drop-shadow(0px 1px 2px rgba(0, 0, 0, 0.3));\n",
              "      fill: #FFFFFF;\n",
              "    }\n",
              "  </style>\n",
              "\n",
              "      <script>\n",
              "        const buttonEl =\n",
              "          document.querySelector('#df-e620b7ee-00fd-4fea-9317-bc4cac5883bc button.colab-df-convert');\n",
              "        buttonEl.style.display =\n",
              "          google.colab.kernel.accessAllowed ? 'block' : 'none';\n",
              "\n",
              "        async function convertToInteractive(key) {\n",
              "          const element = document.querySelector('#df-e620b7ee-00fd-4fea-9317-bc4cac5883bc');\n",
              "          const dataTable =\n",
              "            await google.colab.kernel.invokeFunction('convertToInteractive',\n",
              "                                                     [key], {});\n",
              "          if (!dataTable) return;\n",
              "\n",
              "          const docLinkHtml = 'Like what you see? Visit the ' +\n",
              "            '<a target=\"_blank\" href=https://colab.research.google.com/notebooks/data_table.ipynb>data table notebook</a>'\n",
              "            + ' to learn more about interactive tables.';\n",
              "          element.innerHTML = '';\n",
              "          dataTable['output_type'] = 'display_data';\n",
              "          await google.colab.output.renderOutput(dataTable, element);\n",
              "          const docLink = document.createElement('div');\n",
              "          docLink.innerHTML = docLinkHtml;\n",
              "          element.appendChild(docLink);\n",
              "        }\n",
              "      </script>\n",
              "    </div>\n",
              "  </div>\n",
              "  "
            ]
          },
          "metadata": {},
          "execution_count": 6
        }
      ]
    },
    {
      "cell_type": "code",
      "source": [
        "train_set = dataset_train.iloc[:,1:2].values"
      ],
      "metadata": {
        "id": "od_Jh97fHxsp"
      },
      "execution_count": null,
      "outputs": []
    },
    {
      "cell_type": "code",
      "source": [
        "type(train_set)"
      ],
      "metadata": {
        "id": "ipOhkvP0H8Ki",
        "colab": {
          "base_uri": "https://localhost:8080/"
        },
        "outputId": "4c9a780f-0b9f-4c93-8632-9004f71920f1"
      },
      "execution_count": null,
      "outputs": [
        {
          "output_type": "execute_result",
          "data": {
            "text/plain": [
              "numpy.ndarray"
            ]
          },
          "metadata": {},
          "execution_count": 8
        }
      ]
    },
    {
      "cell_type": "code",
      "source": [
        "train_set.shape"
      ],
      "metadata": {
        "id": "10qpaYabITYB",
        "colab": {
          "base_uri": "https://localhost:8080/"
        },
        "outputId": "15b686a4-ea99-4348-e3c1-d2fbb562c5e3"
      },
      "execution_count": null,
      "outputs": [
        {
          "output_type": "execute_result",
          "data": {
            "text/plain": [
              "(1259, 1)"
            ]
          },
          "metadata": {},
          "execution_count": 9
        }
      ]
    },
    {
      "cell_type": "code",
      "source": [
        "sc = MinMaxScaler(feature_range=(0,1))\n",
        "training_set_scaled = sc.fit_transform(train_set)"
      ],
      "metadata": {
        "id": "Wc5QNHisIMcp"
      },
      "execution_count": null,
      "outputs": []
    },
    {
      "cell_type": "code",
      "source": [
        "training_set_scaled.shape"
      ],
      "metadata": {
        "id": "VYMccXBzjMzz",
        "colab": {
          "base_uri": "https://localhost:8080/"
        },
        "outputId": "a98f5976-72ee-4d86-fabc-b89adaf0ec96"
      },
      "execution_count": null,
      "outputs": [
        {
          "output_type": "execute_result",
          "data": {
            "text/plain": [
              "(1259, 1)"
            ]
          },
          "metadata": {},
          "execution_count": 11
        }
      ]
    },
    {
      "cell_type": "code",
      "source": [
        "X_train_array = []\n",
        "y_train_array = []\n",
        "for i in range(60, 1259):\n",
        "  X_train_array.append(training_set_scaled[i-60:i,0])\n",
        "  y_train_array.append(training_set_scaled[i,0])\n",
        "X_train, y_train = np.array(X_train_array), np.array(y_train_array)\n",
        "X_train1 = X_train.reshape((X_train.shape[0], X_train.shape[1],1))\n"
      ],
      "metadata": {
        "id": "qO7NJjsCI1qq"
      },
      "execution_count": null,
      "outputs": []
    },
    {
      "cell_type": "code",
      "source": [
        "X_train.shape"
      ],
      "metadata": {
        "id": "0rRZyii1IWmq",
        "colab": {
          "base_uri": "https://localhost:8080/"
        },
        "outputId": "eaeb0f15-87d9-4252-e242-2dd596d38072"
      },
      "execution_count": null,
      "outputs": [
        {
          "output_type": "execute_result",
          "data": {
            "text/plain": [
              "(1199, 60)"
            ]
          },
          "metadata": {},
          "execution_count": 13
        }
      ]
    },
    {
      "cell_type": "code",
      "source": [
        "length = 60\n",
        "n_features = 1"
      ],
      "metadata": {
        "id": "BknoiyHTN_tb"
      },
      "execution_count": null,
      "outputs": []
    },
    {
      "cell_type": "code",
      "source": [
        "model = Sequential()\n",
        "model.add(layers.SimpleRNN(50,input_shape=(length,n_features)))\n",
        "model.add(layers.Dense(1))\n",
        "model.compile(optimizer='adam', loss='mse')"
      ],
      "metadata": {
        "id": "tb1wq3smJuDF"
      },
      "execution_count": null,
      "outputs": []
    },
    {
      "cell_type": "code",
      "source": [
        "model.summary()"
      ],
      "metadata": {
        "id": "RmitWR-Qk500",
        "colab": {
          "base_uri": "https://localhost:8080/"
        },
        "outputId": "7c3841ab-39f6-4a65-81ee-b6a865d59e3a"
      },
      "execution_count": null,
      "outputs": [
        {
          "output_type": "stream",
          "name": "stdout",
          "text": [
            "Model: \"sequential\"\n",
            "_________________________________________________________________\n",
            " Layer (type)                Output Shape              Param #   \n",
            "=================================================================\n",
            " simple_rnn (SimpleRNN)      (None, 50)                2600      \n",
            "                                                                 \n",
            " dense (Dense)               (None, 1)                 51        \n",
            "                                                                 \n",
            "=================================================================\n",
            "Total params: 2,651\n",
            "Trainable params: 2,651\n",
            "Non-trainable params: 0\n",
            "_________________________________________________________________\n"
          ]
        }
      ]
    },
    {
      "cell_type": "code",
      "source": [
        "model.fit(X_train1,y_train,epochs=100, batch_size=32)"
      ],
      "metadata": {
        "id": "fXZtPWTgO5T7",
        "colab": {
          "base_uri": "https://localhost:8080/"
        },
        "outputId": "0e53dcdc-e0f0-46f9-d223-04f2db91b561"
      },
      "execution_count": null,
      "outputs": [
        {
          "output_type": "stream",
          "name": "stdout",
          "text": [
            "Epoch 1/100\n",
            "38/38 [==============================] - 8s 38ms/step - loss: 0.0287\n",
            "Epoch 2/100\n",
            "38/38 [==============================] - 1s 39ms/step - loss: 8.9321e-04\n",
            "Epoch 3/100\n",
            "38/38 [==============================] - 2s 42ms/step - loss: 6.6633e-04\n",
            "Epoch 4/100\n",
            "38/38 [==============================] - 4s 118ms/step - loss: 6.1309e-04\n",
            "Epoch 5/100\n",
            "38/38 [==============================] - 2s 42ms/step - loss: 5.8118e-04\n",
            "Epoch 6/100\n",
            "38/38 [==============================] - 1s 38ms/step - loss: 5.2947e-04\n",
            "Epoch 7/100\n",
            "38/38 [==============================] - 1s 39ms/step - loss: 5.0894e-04\n",
            "Epoch 8/100\n",
            "38/38 [==============================] - 2s 43ms/step - loss: 5.1311e-04\n",
            "Epoch 9/100\n",
            "38/38 [==============================] - 1s 37ms/step - loss: 4.7808e-04\n",
            "Epoch 10/100\n",
            "38/38 [==============================] - 2s 51ms/step - loss: 4.5440e-04\n",
            "Epoch 11/100\n",
            "38/38 [==============================] - 2s 59ms/step - loss: 4.2786e-04\n",
            "Epoch 12/100\n",
            "38/38 [==============================] - 1s 37ms/step - loss: 4.0544e-04\n",
            "Epoch 13/100\n",
            "38/38 [==============================] - 1s 37ms/step - loss: 4.0313e-04\n",
            "Epoch 14/100\n",
            "38/38 [==============================] - 1s 36ms/step - loss: 3.9120e-04\n",
            "Epoch 15/100\n",
            "38/38 [==============================] - 1s 38ms/step - loss: 3.6984e-04\n",
            "Epoch 16/100\n",
            "38/38 [==============================] - 1s 38ms/step - loss: 3.7479e-04\n",
            "Epoch 17/100\n",
            "38/38 [==============================] - 1s 38ms/step - loss: 3.6300e-04\n",
            "Epoch 18/100\n",
            "38/38 [==============================] - 2s 58ms/step - loss: 3.5325e-04\n",
            "Epoch 19/100\n",
            "38/38 [==============================] - 2s 53ms/step - loss: 3.3211e-04\n",
            "Epoch 20/100\n",
            "38/38 [==============================] - 1s 39ms/step - loss: 3.4020e-04\n",
            "Epoch 21/100\n",
            "38/38 [==============================] - 2s 40ms/step - loss: 3.6842e-04\n",
            "Epoch 22/100\n",
            "38/38 [==============================] - 2s 41ms/step - loss: 3.3608e-04\n",
            "Epoch 23/100\n",
            "38/38 [==============================] - 2s 41ms/step - loss: 3.3501e-04\n",
            "Epoch 24/100\n",
            "38/38 [==============================] - 1s 39ms/step - loss: 3.2339e-04\n",
            "Epoch 25/100\n",
            "38/38 [==============================] - 2s 40ms/step - loss: 3.0314e-04\n",
            "Epoch 26/100\n",
            "38/38 [==============================] - 3s 77ms/step - loss: 3.1510e-04\n",
            "Epoch 27/100\n",
            "38/38 [==============================] - 1s 39ms/step - loss: 2.8586e-04\n",
            "Epoch 28/100\n",
            "38/38 [==============================] - 1s 39ms/step - loss: 2.8304e-04\n",
            "Epoch 29/100\n",
            "38/38 [==============================] - 1s 38ms/step - loss: 2.6953e-04\n",
            "Epoch 30/100\n",
            "38/38 [==============================] - 1s 36ms/step - loss: 2.7138e-04\n",
            "Epoch 31/100\n",
            "38/38 [==============================] - 1s 39ms/step - loss: 2.7659e-04\n",
            "Epoch 32/100\n",
            "38/38 [==============================] - 1s 38ms/step - loss: 2.7961e-04\n",
            "Epoch 33/100\n",
            "38/38 [==============================] - 2s 51ms/step - loss: 2.8480e-04\n",
            "Epoch 34/100\n",
            "38/38 [==============================] - 2s 61ms/step - loss: 2.7554e-04\n",
            "Epoch 35/100\n",
            "38/38 [==============================] - 1s 39ms/step - loss: 2.6162e-04\n",
            "Epoch 36/100\n",
            "38/38 [==============================] - 1s 39ms/step - loss: 2.4256e-04\n",
            "Epoch 37/100\n",
            "38/38 [==============================] - 1s 39ms/step - loss: 2.4825e-04\n",
            "Epoch 38/100\n",
            "38/38 [==============================] - 2s 40ms/step - loss: 2.6272e-04\n",
            "Epoch 39/100\n",
            "38/38 [==============================] - 2s 41ms/step - loss: 2.6326e-04\n",
            "Epoch 40/100\n",
            "38/38 [==============================] - 2s 41ms/step - loss: 2.4837e-04\n",
            "Epoch 41/100\n",
            "38/38 [==============================] - 2s 66ms/step - loss: 2.5716e-04\n",
            "Epoch 42/100\n",
            "38/38 [==============================] - 2s 46ms/step - loss: 2.7628e-04\n",
            "Epoch 43/100\n",
            "38/38 [==============================] - 1s 37ms/step - loss: 2.3923e-04\n",
            "Epoch 44/100\n",
            "38/38 [==============================] - 1s 37ms/step - loss: 2.5823e-04\n",
            "Epoch 45/100\n",
            "38/38 [==============================] - 1s 37ms/step - loss: 2.6871e-04\n",
            "Epoch 46/100\n",
            "38/38 [==============================] - 1s 35ms/step - loss: 2.5165e-04\n",
            "Epoch 47/100\n",
            "38/38 [==============================] - 1s 39ms/step - loss: 2.2931e-04\n",
            "Epoch 48/100\n",
            "38/38 [==============================] - 1s 38ms/step - loss: 2.5772e-04\n",
            "Epoch 49/100\n",
            "38/38 [==============================] - 2s 66ms/step - loss: 2.2789e-04\n",
            "Epoch 50/100\n",
            "38/38 [==============================] - 2s 43ms/step - loss: 2.1911e-04\n",
            "Epoch 51/100\n",
            "38/38 [==============================] - 1s 38ms/step - loss: 2.2647e-04\n",
            "Epoch 52/100\n",
            "38/38 [==============================] - 2s 41ms/step - loss: 2.8144e-04\n",
            "Epoch 53/100\n",
            "38/38 [==============================] - 1s 38ms/step - loss: 2.1725e-04\n",
            "Epoch 54/100\n",
            "38/38 [==============================] - 2s 41ms/step - loss: 2.1605e-04\n",
            "Epoch 55/100\n",
            "38/38 [==============================] - 1s 39ms/step - loss: 2.5175e-04\n",
            "Epoch 56/100\n",
            "38/38 [==============================] - 2s 41ms/step - loss: 2.8412e-04\n",
            "Epoch 57/100\n",
            "38/38 [==============================] - 3s 69ms/step - loss: 2.1953e-04\n",
            "Epoch 58/100\n",
            "38/38 [==============================] - 2s 39ms/step - loss: 2.0609e-04\n",
            "Epoch 59/100\n",
            "38/38 [==============================] - 1s 39ms/step - loss: 2.3451e-04\n",
            "Epoch 60/100\n",
            "38/38 [==============================] - 1s 37ms/step - loss: 2.2621e-04\n",
            "Epoch 61/100\n",
            "38/38 [==============================] - 1s 36ms/step - loss: 2.1500e-04\n",
            "Epoch 62/100\n",
            "38/38 [==============================] - 1s 36ms/step - loss: 2.0552e-04\n",
            "Epoch 63/100\n",
            "38/38 [==============================] - 1s 37ms/step - loss: 1.9704e-04\n",
            "Epoch 64/100\n",
            "38/38 [==============================] - 2s 44ms/step - loss: 1.9335e-04\n",
            "Epoch 65/100\n",
            "38/38 [==============================] - 2s 65ms/step - loss: 1.9012e-04\n",
            "Epoch 66/100\n",
            "38/38 [==============================] - 1s 39ms/step - loss: 2.1170e-04\n",
            "Epoch 67/100\n",
            "38/38 [==============================] - 1s 39ms/step - loss: 2.0458e-04\n",
            "Epoch 68/100\n",
            "38/38 [==============================] - 1s 38ms/step - loss: 2.0288e-04\n",
            "Epoch 69/100\n",
            "38/38 [==============================] - 1s 38ms/step - loss: 2.0961e-04\n",
            "Epoch 70/100\n",
            "38/38 [==============================] - 1s 38ms/step - loss: 1.8981e-04\n",
            "Epoch 71/100\n",
            "38/38 [==============================] - 1s 37ms/step - loss: 1.9050e-04\n",
            "Epoch 72/100\n",
            "38/38 [==============================] - 2s 56ms/step - loss: 1.8583e-04\n",
            "Epoch 73/100\n",
            "38/38 [==============================] - 2s 54ms/step - loss: 2.2289e-04\n",
            "Epoch 74/100\n",
            "38/38 [==============================] - 1s 38ms/step - loss: 2.0561e-04\n",
            "Epoch 75/100\n",
            "38/38 [==============================] - 1s 39ms/step - loss: 2.3084e-04\n",
            "Epoch 76/100\n",
            "38/38 [==============================] - 1s 38ms/step - loss: 1.9736e-04\n",
            "Epoch 77/100\n",
            "38/38 [==============================] - 1s 37ms/step - loss: 1.9386e-04\n",
            "Epoch 78/100\n",
            "38/38 [==============================] - 1s 37ms/step - loss: 1.8136e-04\n",
            "Epoch 79/100\n",
            "38/38 [==============================] - 1s 36ms/step - loss: 1.7821e-04\n",
            "Epoch 80/100\n",
            "38/38 [==============================] - 2s 59ms/step - loss: 1.9015e-04\n",
            "Epoch 81/100\n",
            "38/38 [==============================] - 2s 51ms/step - loss: 1.8734e-04\n",
            "Epoch 82/100\n",
            "38/38 [==============================] - 1s 39ms/step - loss: 1.8027e-04\n",
            "Epoch 83/100\n",
            "38/38 [==============================] - 1s 39ms/step - loss: 1.8257e-04\n",
            "Epoch 84/100\n",
            "38/38 [==============================] - 2s 40ms/step - loss: 1.8949e-04\n",
            "Epoch 85/100\n",
            "38/38 [==============================] - 2s 41ms/step - loss: 1.8031e-04\n",
            "Epoch 86/100\n",
            "38/38 [==============================] - 2s 40ms/step - loss: 1.8641e-04\n",
            "Epoch 87/100\n",
            "38/38 [==============================] - 2s 45ms/step - loss: 1.7703e-04\n",
            "Epoch 88/100\n",
            "38/38 [==============================] - 3s 67ms/step - loss: 1.7390e-04\n",
            "Epoch 89/100\n",
            "38/38 [==============================] - 1s 38ms/step - loss: 1.7559e-04\n",
            "Epoch 90/100\n",
            "38/38 [==============================] - 1s 39ms/step - loss: 1.8876e-04\n",
            "Epoch 91/100\n",
            "38/38 [==============================] - 2s 40ms/step - loss: 1.7788e-04\n",
            "Epoch 92/100\n",
            "38/38 [==============================] - 1s 38ms/step - loss: 1.8044e-04\n",
            "Epoch 93/100\n",
            "38/38 [==============================] - 1s 37ms/step - loss: 1.6937e-04\n",
            "Epoch 94/100\n",
            "38/38 [==============================] - 2s 40ms/step - loss: 1.7687e-04\n",
            "Epoch 95/100\n",
            "38/38 [==============================] - 2s 54ms/step - loss: 1.9882e-04\n",
            "Epoch 96/100\n",
            "38/38 [==============================] - 2s 54ms/step - loss: 1.7263e-04\n",
            "Epoch 97/100\n",
            "38/38 [==============================] - 1s 36ms/step - loss: 1.7488e-04\n",
            "Epoch 98/100\n",
            "38/38 [==============================] - 1s 39ms/step - loss: 1.6148e-04\n",
            "Epoch 99/100\n",
            "38/38 [==============================] - 1s 38ms/step - loss: 1.7480e-04\n",
            "Epoch 100/100\n",
            "38/38 [==============================] - 2s 42ms/step - loss: 1.7146e-04\n"
          ]
        },
        {
          "output_type": "execute_result",
          "data": {
            "text/plain": [
              "<keras.callbacks.History at 0x7f16092fdfa0>"
            ]
          },
          "metadata": {},
          "execution_count": 17
        }
      ]
    },
    {
      "cell_type": "code",
      "source": [
        "dataset_test = pd.read_csv('testset.csv')"
      ],
      "metadata": {
        "id": "OJzVwjRmPqDb"
      },
      "execution_count": null,
      "outputs": []
    },
    {
      "cell_type": "code",
      "source": [
        "test_set = dataset_test.iloc[:,1:2].values"
      ],
      "metadata": {
        "id": "JPrrd1n-Px7o"
      },
      "execution_count": null,
      "outputs": []
    },
    {
      "cell_type": "code",
      "source": [
        "test_set.shape"
      ],
      "metadata": {
        "id": "WQgU2aH0bHZy",
        "colab": {
          "base_uri": "https://localhost:8080/"
        },
        "outputId": "d1ab8963-5a3f-4804-8706-6ce5f11cdb31"
      },
      "execution_count": null,
      "outputs": [
        {
          "output_type": "execute_result",
          "data": {
            "text/plain": [
              "(125, 1)"
            ]
          },
          "metadata": {},
          "execution_count": 20
        }
      ]
    },
    {
      "cell_type": "code",
      "source": [
        "dataset_total = pd.concat((dataset_train['Open'],dataset_test['Open']),axis=0)"
      ],
      "metadata": {
        "id": "jqBvI7uQa8dz"
      },
      "execution_count": null,
      "outputs": []
    },
    {
      "cell_type": "code",
      "source": [
        "inputs = dataset_total.values\n",
        "inputs = inputs.reshape(-1,1)\n",
        "inputs_scaled=sc.transform(inputs)\n",
        "X_test = []\n",
        "for i in range(60,1384):\n",
        "  X_test.append(inputs_scaled[i-60:i,0])\n",
        "X_test = np.array(X_test)\n",
        "X_test = np.reshape(X_test,(X_test.shape[0], X_test.shape[1],1))"
      ],
      "metadata": {
        "id": "V6w4Dq01QJXk"
      },
      "execution_count": null,
      "outputs": []
    },
    {
      "cell_type": "code",
      "source": [
        "X_test.shape"
      ],
      "metadata": {
        "id": "zup_dSFXbqed",
        "colab": {
          "base_uri": "https://localhost:8080/"
        },
        "outputId": "92fa007f-8323-4fae-ea3d-401903ab4ad4"
      },
      "execution_count": null,
      "outputs": [
        {
          "output_type": "execute_result",
          "data": {
            "text/plain": [
              "(1324, 60, 1)"
            ]
          },
          "metadata": {},
          "execution_count": 23
        }
      ]
    },
    {
      "cell_type": "code",
      "source": [
        "predicted_stock_price_scaled = model.predict(X_test)\n",
        "predicted_stock_price = sc.inverse_transform(predicted_stock_price_scaled)"
      ],
      "metadata": {
        "id": "M02bWmdhRneT",
        "colab": {
          "base_uri": "https://localhost:8080/"
        },
        "outputId": "29edb261-387c-4bb3-f29a-33c1b8dbf2ed"
      },
      "execution_count": null,
      "outputs": [
        {
          "output_type": "stream",
          "name": "stdout",
          "text": [
            "42/42 [==============================] - 0s 7ms/step\n"
          ]
        }
      ]
    },
    {
      "cell_type": "code",
      "source": [
        "plt.plot(np.arange(0,1384),inputs, color='red', label = 'Test(Real) Google stock price')\n",
        "plt.plot(np.arange(60,1384),predicted_stock_price, color='blue', label = 'Predicted Google stock price')\n",
        "plt.title('Google Stock Price Prediction')\n",
        "plt.xlabel('Time')\n",
        "plt.ylabel('Google Stock Price')\n",
        "plt.legend()\n",
        "plt.show()"
      ],
      "metadata": {
        "id": "60GZR-9ZR34C",
        "colab": {
          "base_uri": "https://localhost:8080/",
          "height": 472
        },
        "outputId": "175b0f8e-e841-4558-b945-7d85af9a1fd9"
      },
      "execution_count": null,
      "outputs": [
        {
          "output_type": "display_data",
          "data": {
            "text/plain": [
              "<Figure size 640x480 with 1 Axes>"
            ],
            "image/png": "[encoded data removed]"
          },
          "metadata": {}
        }
      ]
    }
  ]
}